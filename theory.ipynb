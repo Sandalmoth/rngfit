{
 "cells": [
  {
   "cell_type": "code",
   "execution_count": 2,
   "metadata": {},
   "outputs": [],
   "source": [
    "import numpy as np\n",
    "from matplotlib import pyplot"
   ]
  },
  {
   "cell_type": "markdown",
   "metadata": {},
   "source": [
    "Extending the 1RM calculator\n",
    "\n",
    "Many are familiar with the idea of one rep max (1RM) calculators, where a weight and a number of reps performed is used to calculate the maximum weight the trainee could lift. Perhaps the most popular formula is the Epley formula:  \n",
    "$$1\\mathrm{RM} = 30 \\cdot \\left( 1 + \\frac{\\mathrm{reps}}{30} \\right)$$\n",
    "In many cases, this is reasonably good. Few would call it perfect however. The main drawback is simply that the repetition strength varies with individuals as well as with"
   ]
  },
  {
   "cell_type": "code",
   "execution_count": null,
   "metadata": {},
   "outputs": [],
   "source": []
  }
 ],
 "metadata": {
  "kernelspec": {
   "display_name": "Python 3",
   "language": "python",
   "name": "python3"
  },
  "language_info": {
   "codemirror_mode": {
    "name": "ipython",
    "version": 3
   },
   "file_extension": ".py",
   "mimetype": "text/x-python",
   "name": "python",
   "nbconvert_exporter": "python",
   "pygments_lexer": "ipython3",
   "version": "3.6.10"
  }
 },
 "nbformat": 4,
 "nbformat_minor": 2
}
